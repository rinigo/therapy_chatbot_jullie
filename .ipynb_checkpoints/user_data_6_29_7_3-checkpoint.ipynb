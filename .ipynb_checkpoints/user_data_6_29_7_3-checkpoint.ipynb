{
 "cells": [
  {
   "cell_type": "code",
   "execution_count": 1,
   "metadata": {
    "collapsed": false
   },
   "outputs": [],
   "source": [
    "from imp import reload\n",
    "import pandas as pd\n",
    "import numpy as np\n",
    "from admin import admin_send_message\n",
    "from scripts.delete_user_from_db import initialize_database\n",
    "from sqlalchemy import and_, desc, exists\n",
    "from datetime import datetime, timedelta\n",
    "import models"
   ]
  },
  {
   "cell_type": "code",
   "execution_count": 2,
   "metadata": {
    "collapsed": true
   },
   "outputs": [],
   "source": [
    "session = initialize_database('production')"
   ]
  },
  {
   "cell_type": "code",
   "execution_count": 3,
   "metadata": {
    "collapsed": true
   },
   "outputs": [],
   "source": [
    "start_date = datetime(year=2018, month=6, day=29)"
   ]
  },
  {
   "cell_type": "code",
   "execution_count": 4,
   "metadata": {
    "collapsed": false
   },
   "outputs": [],
   "source": [
    "s1 = models.User.created_at > start_date\n",
    "s2 = ~models.User.first_name.in_(['Yuya', 'Rintaro'])\n",
    "new_users = session.query(models.User).filter(and_(s1, s2)).order_by(desc(models.User.id)).all()"
   ]
  },
  {
   "cell_type": "code",
   "execution_count": 5,
   "metadata": {
    "collapsed": false
   },
   "outputs": [
    {
     "data": {
      "text/plain": [
       "146"
      ]
     },
     "execution_count": 5,
     "metadata": {},
     "output_type": "execute_result"
    }
   ],
   "source": [
    "len(new_users)"
   ]
  },
  {
   "cell_type": "code",
   "execution_count": 40,
   "metadata": {
    "collapsed": false
   },
   "outputs": [
    {
     "name": "stdout",
     "output_type": "stream",
     "text": [
      "[746, 745, 744, 743, 742]\n"
     ]
    }
   ],
   "source": [
    "new_user_ids = [i.id for i in new_users]\n",
    "print(new_user_ids[-5:])"
   ]
  },
  {
   "cell_type": "code",
   "execution_count": 7,
   "metadata": {
    "collapsed": false
   },
   "outputs": [],
   "source": [
    "new_messages = session.query(models.Message).filter(models.Message.user_id.in_(new_user_ids)).all()"
   ]
  },
  {
   "cell_type": "code",
   "execution_count": 8,
   "metadata": {
    "collapsed": false
   },
   "outputs": [
    {
     "data": {
      "text/plain": [
       "2631"
      ]
     },
     "execution_count": 8,
     "metadata": {},
     "output_type": "execute_result"
    }
   ],
   "source": [
    "len(new_messages)"
   ]
  },
  {
   "cell_type": "code",
   "execution_count": 9,
   "metadata": {
    "collapsed": false
   },
   "outputs": [],
   "source": [
    "s1 = models.User.status.in_([0,1])\n",
    "s2 = models.User.id.in_(new_user_ids)\n",
    "intro_users = session.query(models.User).filter(and_(s1, s2)).all()"
   ]
  },
  {
   "cell_type": "code",
   "execution_count": 10,
   "metadata": {
    "collapsed": false
   },
   "outputs": [
    {
     "data": {
      "text/plain": [
       "38"
      ]
     },
     "execution_count": 10,
     "metadata": {},
     "output_type": "execute_result"
    }
   ],
   "source": [
    "len(intro_users)"
   ]
  },
  {
   "cell_type": "code",
   "execution_count": 11,
   "metadata": {
    "collapsed": false
   },
   "outputs": [],
   "source": [
    "s1 = exists().where(\n",
    "    and_(\n",
    "        models.Session.user_id == models.User.id,\n",
    "        models.Session.status != 4\n",
    "    )\n",
    ")\n",
    "s2 = models.User.id.in_(new_user_ids)\n",
    "s3 = models.User.status == 2\n",
    "\n",
    "regular_convo_users = session.query(models.User).filter(and_(s1,s2,s3)).all()\n",
    "# prepared_users = session.query(models.User).filter(and_(exists().where(and_(models.Session.user_id = models.User.id, models.Session.status != 4)),s2,s3)).all()"
   ]
  },
  {
   "cell_type": "code",
   "execution_count": 12,
   "metadata": {
    "collapsed": false
   },
   "outputs": [
    {
     "data": {
      "text/plain": [
       "84"
      ]
     },
     "execution_count": 12,
     "metadata": {},
     "output_type": "execute_result"
    }
   ],
   "source": [
    "len(regular_convo_users)"
   ]
  },
  {
   "cell_type": "code",
   "execution_count": 13,
   "metadata": {
    "collapsed": false
   },
   "outputs": [],
   "source": [
    "regular_convo_user_ids = [i.id for i in regular_convo_users]"
   ]
  },
  {
   "cell_type": "code",
   "execution_count": 17,
   "metadata": {
    "collapsed": true
   },
   "outputs": [
    {
     "name": "stdout",
     "output_type": "stream",
     "text": [
      "742\n",
      "744\n",
      "745\n",
      "747\n",
      "749\n",
      "751\n",
      "752\n",
      "753\n",
      "754\n",
      "755\n",
      "756\n",
      "757\n",
      "758\n",
      "759\n",
      "760\n",
      "765\n",
      "766\n",
      "769\n",
      "770\n",
      "773\n",
      "776\n",
      "777\n",
      "778\n",
      "781\n",
      "782\n",
      "786\n",
      "787\n",
      "792\n",
      "793\n",
      "794\n",
      "797\n",
      "799\n",
      "801\n",
      "802\n",
      "804\n",
      "805\n",
      "806\n",
      "807\n",
      "808\n",
      "810\n",
      "813\n",
      "816\n",
      "818\n",
      "821\n",
      "822\n",
      "823\n",
      "824\n",
      "825\n",
      "828\n",
      "829\n",
      "830\n",
      "835\n",
      "836\n",
      "837\n",
      "841\n",
      "844\n",
      "847\n",
      "849\n",
      "850\n",
      "852\n",
      "853\n",
      "854\n",
      "855\n",
      "856\n",
      "858\n",
      "860\n",
      "861\n",
      "862\n",
      "866\n",
      "867\n",
      "869\n",
      "870\n",
      "872\n",
      "873\n",
      "874\n",
      "875\n",
      "878\n",
      "879\n",
      "880\n",
      "881\n",
      "882\n",
      "883\n",
      "884\n",
      "885\n"
     ]
    }
   ],
   "source": [
    "msg_per_user = []\n",
    "for i in regular_convo_user_ids:\n",
    "    s1 = models.Message.user_id == i\n",
    "    s2 = models.Message.payload == ''\n",
    "    messages = session.query(models.Message).filter(and_(s1, s2)).all()\n",
    "    msg_per_user.append(len(messages))"
   ]
  },
  {
   "cell_type": "code",
   "execution_count": 19,
   "metadata": {
    "collapsed": false
   },
   "outputs": [
    {
     "name": "stdout",
     "output_type": "stream",
     "text": [
      "15.6547619048\n"
     ]
    }
   ],
   "source": [
    "average_msg_per_user = np.sum(msg_per_user)/len(msg_per_user)\n",
    "print(average_msg_per_user)"
   ]
  },
  {
   "cell_type": "code",
   "execution_count": 33,
   "metadata": {
    "collapsed": false
   },
   "outputs": [],
   "source": [
    "msg_per_session = []\n",
    "for i in regular_convo_user_ids:\n",
    "    s2 = models.Session.user_id == i\n",
    "    regular_session = session.query(models.Session).filter(and_(s2)).order_by(models.Session.id).limit(1).all()\n",
    "    messages = session.query(models.Message).filter(models.Message.session_id == regular_session[0].id).all()\n",
    "    msg_per_session.append(len(messages))"
   ]
  },
  {
   "cell_type": "code",
   "execution_count": 34,
   "metadata": {
    "collapsed": false
   },
   "outputs": [
    {
     "name": "stdout",
     "output_type": "stream",
     "text": [
      "11.5833333333\n"
     ]
    }
   ],
   "source": [
    "avg_msg_per_ssn = np.sum(msg_per_session)/len(msg_per_session)\n",
    "print(avg_msg_per_ssn)"
   ]
  },
  {
   "cell_type": "code",
   "execution_count": 35,
   "metadata": {
    "collapsed": true
   },
   "outputs": [],
   "source": [
    "returned_users = []\n",
    "for i in regular_convo_user_ids:\n",
    "    s2 = models.Session.user_id == i\n",
    "    regular_session = session.query(models.Session).filter(and_(s2)).order_by(models.Session.id).limit(2).all()\n",
    "    if len(regular_session) == 2:\n",
    "        returned_users.append(i)"
   ]
  },
  {
   "cell_type": "code",
   "execution_count": 36,
   "metadata": {
    "collapsed": false
   },
   "outputs": [
    {
     "name": "stdout",
     "output_type": "stream",
     "text": [
      "[745, 757, 778, 793, 822, 841, 879]\n"
     ]
    }
   ],
   "source": [
    "print(returned_users)"
   ]
  },
  {
   "cell_type": "code",
   "execution_count": 47,
   "metadata": {
    "collapsed": false
   },
   "outputs": [],
   "source": [
    "s1 = models.Session.user_id.in_(new_user_ids)\n",
    "s2 = models.Session.mood_end != ''\n",
    "completed_sessions = session.query(models.Session).filter(and_(s1, s2)).order_by(models.Session.id).all()"
   ]
  },
  {
   "cell_type": "code",
   "execution_count": 49,
   "metadata": {
    "collapsed": false
   },
   "outputs": [
    {
     "data": {
      "text/plain": [
       "17"
      ]
     },
     "execution_count": 49,
     "metadata": {},
     "output_type": "execute_result"
    }
   ],
   "source": [
    "len(completed_sessions)"
   ]
  },
  {
   "cell_type": "code",
   "execution_count": null,
   "metadata": {
    "collapsed": true
   },
   "outputs": [],
   "source": []
  },
  {
   "cell_type": "code",
   "execution_count": 52,
   "metadata": {
    "collapsed": false
   },
   "outputs": [
    {
     "data": {
      "text/plain": [
       "<module 'admin.get_convo_info' from '/Users/yuya.t/jullie/admin/get_convo_info.py'>"
      ]
     },
     "execution_count": 52,
     "metadata": {},
     "output_type": "execute_result"
    }
   ],
   "source": [
    "from admin import get_convo_info\n",
    "reload(get_convo_info)"
   ]
  },
  {
   "cell_type": "code",
   "execution_count": 54,
   "metadata": {
    "collapsed": false
   },
   "outputs": [
    {
     "name": "stdout",
     "output_type": "stream",
     "text": [
      "\n",
      "new users\n",
      " 99 [645, 644, 643, 642, 641]\n",
      "\n",
      "new messages\n",
      " 1453\n",
      "\n",
      "intro users\n",
      " 41\n",
      "\n",
      "new regular convo users\n",
      " 50\n",
      "\n",
      "average messages per user\n",
      " 12.36\n",
      "\n",
      "average messages per session\n",
      " 9.94\n",
      "\n",
      "returned users\n",
      " [675, 677, 678, 704, 732, 734]\n",
      "\n",
      "completed sessions\n",
      " 0\n"
     ]
    }
   ],
   "source": [
    "get_convo_info.get_convo_info(6, 22,6,29)"
   ]
  },
  {
   "cell_type": "code",
   "execution_count": 55,
   "metadata": {
    "collapsed": false
   },
   "outputs": [
    {
     "name": "stdout",
     "output_type": "stream",
     "text": [
      "\n",
      "new users\n",
      " 51 [562, 561, 560, 559, 558]\n",
      "\n",
      "new messages\n",
      " 764\n",
      "\n",
      "intro users\n",
      " 15\n",
      "\n",
      "new regular convo users\n",
      " 1\n",
      "\n",
      "average messages per user\n",
      " 0.0\n",
      "\n",
      "average messages per session\n",
      " 6.0\n",
      "\n",
      "returned users\n",
      " [564]\n",
      "\n",
      "completed sessions\n",
      " 4\n"
     ]
    }
   ],
   "source": [
    "get_convo_info.get_convo_info(6,15, 6,22)"
   ]
  },
  {
   "cell_type": "code",
   "execution_count": 56,
   "metadata": {
    "collapsed": false
   },
   "outputs": [
    {
     "name": "stdout",
     "output_type": "stream",
     "text": [
      "\n",
      "new users\n",
      " 54 [508, 507, 506, 505, 504]\n",
      "\n",
      "new messages\n",
      " 1083\n",
      "\n",
      "intro users\n",
      " 16\n",
      "\n",
      "new regular convo users\n",
      " 1\n",
      "\n",
      "average messages per user\n",
      " 4.0\n",
      "\n",
      "average messages per session\n",
      " 13.0\n",
      "\n",
      "returned users\n",
      " [533]\n",
      "\n",
      "completed sessions\n",
      " 9\n"
     ]
    }
   ],
   "source": [
    "get_convo_info.get_convo_info(6,8,6,15)"
   ]
  },
  {
   "cell_type": "code",
   "execution_count": null,
   "metadata": {
    "collapsed": true
   },
   "outputs": [],
   "source": [
    "for i in regular_convo_user_ids:\n",
    "    s1 = models.Message.user_id == i\n",
    "    s2 = models.Message.payload == ''\n",
    "    messages = session.query(models.Message).filter(and_(s1, s2)).all()"
   ]
  }
 ],
 "metadata": {
  "anaconda-cloud": {},
  "kernelspec": {
   "display_name": "Python [Root]",
   "language": "python",
   "name": "Python [Root]"
  },
  "language_info": {
   "codemirror_mode": {
    "name": "ipython",
    "version": 3
   },
   "file_extension": ".py",
   "mimetype": "text/x-python",
   "name": "python",
   "nbconvert_exporter": "python",
   "pygments_lexer": "ipython3",
   "version": "3.5.2"
  }
 },
 "nbformat": 4,
 "nbformat_minor": 0
}
